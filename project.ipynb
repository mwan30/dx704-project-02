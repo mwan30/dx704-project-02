{
  "cells": [
    {
      "cell_type": "markdown",
      "metadata": {
        "id": "7aZ_blKrRZ3H"
      },
      "source": [
        "# DX 704 Week 2 Project\n",
        "\n",
        "This week's project will analyze fresh strawberry price data for a hypothetical \"buy low, freeze, and sell high\" business.\n",
        "Strawberries show strong seasonality in their prices compared to other fruits.\n",
        "\n",
        "![](https://ers.usda.gov/sites/default/files/_laserfiche/Charts/61401/oct14_finding_plattner_fig01.png)\n",
        "\n",
        "Image source: https://www.ers.usda.gov/amber-waves/2014/october/seasonal-fresh-fruit-price-patterns-differ-across-commodities-the-case-of-strawberries-and-apples\n",
        "\n",
        "You are considering a business where you buy strawberries when the prices are very low, carefully freeze them, even more carefully defrost them, and then sell them when the prices are high.\n",
        "You will forecast strawberry price time series and then use them to tactically pick times to buy, freeze, and sell the strawberries."
      ]
    },
    {
      "cell_type": "markdown",
      "metadata": {
        "id": "g1rddBd6_teG"
      },
      "source": [
        "The full project description, a template notebook, and raw data are available on GitHub at the following link.\n",
        "\n",
        "https://github.com/bu-cds-dx704/dx704-project-02\n"
      ]
    },
    {
      "cell_type": "markdown",
      "metadata": {},
      "source": [
        "### Example Code\n",
        "\n",
        "You may find it helpful to refer to these GitHub repositories of Jupyter notebooks for example code.\n",
        "\n",
        "* https://github.com/bu-cds-omds/dx601-examples\n",
        "* https://github.com/bu-cds-omds/dx602-examples\n",
        "* https://github.com/bu-cds-omds/dx603-examples\n",
        "* https://github.com/bu-cds-omds/dx704-examples\n",
        "\n",
        "Any calculations demonstrated in code examples or videos may be found in these notebooks, and you are allowed to copy this example code in your homework answers."
      ]
    },
    {
      "cell_type": "code",
      "execution_count": 2,
      "metadata": {},
      "outputs": [
        {
          "name": "stderr",
          "output_type": "stream",
          "text": [
            "/usr/local/python/3.12.1/lib/python3.12/site-packages/tqdm/auto.py:21: TqdmWarning: IProgress not found. Please update jupyter and ipywidgets. See https://ipywidgets.readthedocs.io/en/stable/user_install.html\n",
            "  from .autonotebook import tqdm as notebook_tqdm\n"
          ]
        }
      ],
      "source": [
        "import pandas as pd\n",
        "import numpy as np\n",
        "import matplotlib.pyplot as plt\n",
        "from prophet import Prophet\n",
        "import statsmodels.tsa.ar_model as ar_model\n",
        "import statsmodels.graphics.tsaplots as tsaplot"
      ]
    },
    {
      "cell_type": "markdown",
      "metadata": {
        "id": "B7jHqNiZBXzD"
      },
      "source": [
        "## Part 1: Backtest Strawberry Prices\n",
        "\n",
        "Read the provided \"strawberry-prices.tsv\" with data from 2020 through 2024.\n",
        "This data is based on data from the U.S. Bureau of Statistics, but transformed so the ground truth is not online.\n",
        "https://fred.stlouisfed.org/series/APU0000711415\n",
        "\n",
        "Use the data for 2020 through 2023 to predict monthly prices in 2024.\n",
        "Spend some time to make sure you are happy with your methodology and prediction accuracy, since you will reuse the methodology to forecast 2025 next.\n",
        "Save the 2024 backtest predictions as \"strawberry-backtest.tsv\" with columns month and price.\n"
      ]
    },
    {
      "cell_type": "code",
      "execution_count": 13,
      "metadata": {
        "id": "T8OLCmHbiaoK"
      },
      "outputs": [
        {
          "name": "stderr",
          "output_type": "stream",
          "text": [
            "06:20:47 - cmdstanpy - INFO - Chain [1] start processing\n"
          ]
        },
        {
          "name": "stderr",
          "output_type": "stream",
          "text": [
            "06:20:48 - cmdstanpy - INFO - Chain [1] done processing\n"
          ]
        }
      ],
      "source": [
        "# YOUR CHANGES HERE\n",
        "\n",
        "prices = pd.read_csv('strawberry-prices.tsv', sep='\\t')\n",
        "\n",
        "train = prices[0:48]\n",
        "test = prices[48:]\n",
        "train = train.rename(mapper={'month':'ds', 'price':'y'}, axis=1)\n",
        "\n",
        "prices_model = Prophet()\n",
        "prices_model.fit(train)\n",
        "\n",
        "prices_future = prices_model.make_future_dataframe(periods=12, freq='MS')\n",
        "future_2024 = prices_future[prices_future['ds'].dt.year == 2024]\n",
        "prices_forecast = prices_model.predict(future_2024)\n",
        "strawberry_backtest = prices_forecast[['ds', 'yhat']].tail(12)\n",
        "strawberry_backtest = strawberry_backtest.rename(columns={'ds': 'month', 'yhat':'price'})"
      ]
    },
    {
      "cell_type": "code",
      "execution_count": 14,
      "metadata": {},
      "outputs": [],
      "source": [
        "strawberry_backtest.to_csv('strawberry-backtest.tsv', sep='\\t')"
      ]
    },
    {
      "cell_type": "markdown",
      "metadata": {
        "id": "vzTi6z-skMoz"
      },
      "source": [
        "Submit \"strawberry-backtest.tsv\" in Gradescope."
      ]
    },
    {
      "cell_type": "markdown",
      "metadata": {
        "id": "T3D1ItqDnt9c"
      },
      "source": [
        "## Part 2: Backtest Errors\n",
        "\n",
        "What are the mean and standard deviation of the residuals between your backtest predictions and the ground truth? (If your mean is not close to zero, then you may be missing a long term trend.)\n",
        "\n",
        "Write the mean and standard deviation to a file \"backtest-accuracy.tsv\" with two columns, mean and std."
      ]
    },
    {
      "cell_type": "code",
      "execution_count": 26,
      "metadata": {
        "id": "3wxh46v8tnv8"
      },
      "outputs": [
        {
          "name": "stdout",
          "output_type": "stream",
          "text": [
            "Mean: 0.03477350807363696\n",
            "STD: 0.2626934185676691\n"
          ]
        }
      ],
      "source": [
        "# YOUR CHANGES HERE\n",
        "\n",
        "test = test.reset_index(drop=True)\n",
        "\n",
        "residuals = strawberry_backtest['price'] - test['price']\n",
        "mean = np.mean(residuals)\n",
        "std = np.std(residuals)\n",
        "print(f'Mean: {mean}')\n",
        "print(f'STD: {std}')"
      ]
    },
    {
      "cell_type": "code",
      "execution_count": 27,
      "metadata": {},
      "outputs": [],
      "source": [
        "backtest_accuracy = {'mean': mean, 'std': std}\n",
        "backtest_accuracy = pd.DataFrame(backtest_accuracy, index=[0])\n",
        "backtest_accuracy.to_csv('backtest-accuracy.tsv', sep='\\t')"
      ]
    },
    {
      "cell_type": "markdown",
      "metadata": {
        "id": "Cq2d378QtnG9"
      },
      "source": [
        "Submit \"backtest-accuracy.tsv\" in Gradescope."
      ]
    },
    {
      "cell_type": "markdown",
      "metadata": {
        "id": "Pa4DWVrpj5mq"
      },
      "source": [
        "## Part 3: Forecast Strawberry Prices\n",
        "\n",
        "Use all the data from 2020 through 2024 to predict monthly prices in 2025 using the same methodology from part 1.\n",
        "Make a monthly forecast for each month of 2025 and save it as \"strawberry-forecast.tsv\" with columns for month and price."
      ]
    },
    {
      "cell_type": "code",
      "execution_count": 15,
      "metadata": {
        "id": "CiKoW3BrkJiS"
      },
      "outputs": [
        {
          "name": "stderr",
          "output_type": "stream",
          "text": [
            "06:21:25 - cmdstanpy - INFO - Chain [1] start processing\n"
          ]
        },
        {
          "name": "stderr",
          "output_type": "stream",
          "text": [
            "06:21:25 - cmdstanpy - INFO - Chain [1] done processing\n"
          ]
        }
      ],
      "source": [
        "# YOUR CHANGES HERE\n",
        "\n",
        "prices = prices.rename(mapper={'month':'ds', 'price':'y'}, axis=1)\n",
        "\n",
        "model = Prophet()\n",
        "model.fit(prices)\n",
        "\n",
        "model_future = model.make_future_dataframe(periods=12, freq='MS')\n",
        "future_2025 = model_future[model_future['ds'].dt.year == 2025]\n",
        "model_forecast = model.predict(future_2025)\n",
        "strawberry_forecast = model_forecast[['ds', 'yhat']].tail(12)\n",
        "strawberry_forecast = strawberry_forecast.rename(columns={'ds': 'month', 'yhat':'price'})"
      ]
    },
    {
      "cell_type": "code",
      "execution_count": 16,
      "metadata": {},
      "outputs": [],
      "source": [
        "strawberry_forecast.to_csv('strawberry-forecast.tsv', sep='\\t')"
      ]
    },
    {
      "cell_type": "markdown",
      "metadata": {
        "id": "32lM_MPdico0"
      },
      "source": [
        "Submit \"strawberry-forecast.tsv\" in Gradescope."
      ]
    },
    {
      "cell_type": "markdown",
      "metadata": {
        "id": "SzCWxxaLi8MH"
      },
      "source": [
        "## Part 4: Buy Low, Freeze and Sell High\n",
        "\n",
        "Using your 2025 forecast, analyze the profit picking different pairs of months to buy and sell strawberries.\n",
        "Maximize your profit assuming that it costs &dollar;0.20 per pint to freeze the strawberries, &dollar;0.10 per pint per month to store the frozen strawberries and there is a 10% price discount from selling previously frozen strawberries.\n",
        "So, if you buy a pint of strawberies for &dollar;1, freeze them, and sell them for &dollar;2 three months after buying them, then the profit is &dollar;2 * 0.9 - &dollar;1 - &dollar;0.20 - &dollar;0.10 * 3 = &dollar;0.30 per pint.\n",
        "To evaluate a given pair of months, assume that you can invest &dollar;1,000,000 to cover all costs, and that you buy as many pints of strawberries as possible.\n",
        "\n",
        "Write the results of your analysis to a file \"timings.tsv\" with columns for the buy_month, sell_month, pints_purchased, and expected_profit."
      ]
    },
    {
      "cell_type": "code",
      "execution_count": 17,
      "metadata": {
        "id": "pGWQQvy6nkCk"
      },
      "outputs": [
        {
          "data": {
            "text/html": [
              "<div>\n",
              "<style scoped>\n",
              "    .dataframe tbody tr th:only-of-type {\n",
              "        vertical-align: middle;\n",
              "    }\n",
              "\n",
              "    .dataframe tbody tr th {\n",
              "        vertical-align: top;\n",
              "    }\n",
              "\n",
              "    .dataframe thead th {\n",
              "        text-align: right;\n",
              "    }\n",
              "</style>\n",
              "<table border=\"1\" class=\"dataframe\">\n",
              "  <thead>\n",
              "    <tr style=\"text-align: right;\">\n",
              "      <th></th>\n",
              "      <th>buy_month</th>\n",
              "      <th>sell_month</th>\n",
              "      <th>pints_purchased</th>\n",
              "      <th>expected_profit</th>\n",
              "    </tr>\n",
              "  </thead>\n",
              "  <tbody>\n",
              "    <tr>\n",
              "      <th>0</th>\n",
              "      <td>2025-06-01</td>\n",
              "      <td>2025-12-01</td>\n",
              "      <td>327221</td>\n",
              "      <td>70418.974926</td>\n",
              "    </tr>\n",
              "    <tr>\n",
              "      <th>1</th>\n",
              "      <td>2025-07-01</td>\n",
              "      <td>2025-11-01</td>\n",
              "      <td>332279</td>\n",
              "      <td>43104.003990</td>\n",
              "    </tr>\n",
              "    <tr>\n",
              "      <th>2</th>\n",
              "      <td>2025-07-01</td>\n",
              "      <td>2025-12-01</td>\n",
              "      <td>332279</td>\n",
              "      <td>120194.842830</td>\n",
              "    </tr>\n",
              "    <tr>\n",
              "      <th>3</th>\n",
              "      <td>2025-08-01</td>\n",
              "      <td>2025-12-01</td>\n",
              "      <td>306442</td>\n",
              "      <td>63735.973604</td>\n",
              "    </tr>\n",
              "    <tr>\n",
              "      <th>4</th>\n",
              "      <td>2025-09-01</td>\n",
              "      <td>2025-12-01</td>\n",
              "      <td>294128</td>\n",
              "      <td>50401.723337</td>\n",
              "    </tr>\n",
              "    <tr>\n",
              "      <th>5</th>\n",
              "      <td>2025-10-01</td>\n",
              "      <td>2025-12-01</td>\n",
              "      <td>273002</td>\n",
              "      <td>2258.773388</td>\n",
              "    </tr>\n",
              "  </tbody>\n",
              "</table>\n",
              "</div>"
            ],
            "text/plain": [
              "   buy_month sell_month  pints_purchased  expected_profit\n",
              "0 2025-06-01 2025-12-01           327221     70418.974926\n",
              "1 2025-07-01 2025-11-01           332279     43104.003990\n",
              "2 2025-07-01 2025-12-01           332279    120194.842830\n",
              "3 2025-08-01 2025-12-01           306442     63735.973604\n",
              "4 2025-09-01 2025-12-01           294128     50401.723337\n",
              "5 2025-10-01 2025-12-01           273002      2258.773388"
            ]
          },
          "execution_count": 17,
          "metadata": {},
          "output_type": "execute_result"
        }
      ],
      "source": [
        "# YOUR CHANGES HERE\n",
        "\n",
        "pairs = []\n",
        "for i, buy_row in strawberry_forecast.iterrows():\n",
        "    for j, sell_row in strawberry_forecast.iterrows():\n",
        "        if j > i:\n",
        "            months = j - i\n",
        "            per_pint = sell_row.price * 0.9 - buy_row.price - 0.20 - 0.10 * months\n",
        "            if per_pint > 0:\n",
        "                pints = int(1_000_000 // buy_row.price)\n",
        "                pairs.append([buy_row.month, sell_row.month, pints, pints*per_pint])\n",
        "\n",
        "pairs_df = pd.DataFrame(pairs, columns=['buy_month', 'sell_month', 'pints_purchased', 'expected_profit'])\n",
        "pairs_df\n"
      ]
    },
    {
      "cell_type": "code",
      "execution_count": 18,
      "metadata": {},
      "outputs": [],
      "source": [
        "pairs_df.to_csv('timings.tsv', sep='\\t')"
      ]
    },
    {
      "cell_type": "markdown",
      "metadata": {
        "id": "XAWzFd54nlxI"
      },
      "source": [
        "Submit \"timings.tsv\" in Gradescope."
      ]
    },
    {
      "cell_type": "markdown",
      "metadata": {
        "id": "LdrZE8qKCDUv"
      },
      "source": [
        "## Part 5: Strategy Check\n",
        "\n",
        "What is the best profit scenario according to your previous timing analysis?\n",
        "How much does that profit change if the sell price is off by one standard deviation from your backtest analysis?\n",
        "(Variation in the sell price is more dangerous because you can see the buy price before fully committing.)\n",
        "\n",
        "Write the results to a file \"check.tsv\" with columns best_profit and one_std_profit."
      ]
    },
    {
      "cell_type": "code",
      "execution_count": 19,
      "metadata": {
        "id": "7HvYBo_wt8Rv"
      },
      "outputs": [
        {
          "data": {
            "text/html": [
              "<div>\n",
              "<style scoped>\n",
              "    .dataframe tbody tr th:only-of-type {\n",
              "        vertical-align: middle;\n",
              "    }\n",
              "\n",
              "    .dataframe tbody tr th {\n",
              "        vertical-align: top;\n",
              "    }\n",
              "\n",
              "    .dataframe thead th {\n",
              "        text-align: right;\n",
              "    }\n",
              "</style>\n",
              "<table border=\"1\" class=\"dataframe\">\n",
              "  <thead>\n",
              "    <tr style=\"text-align: right;\">\n",
              "      <th></th>\n",
              "      <th>buy_month</th>\n",
              "      <th>sell_month</th>\n",
              "      <th>pints_purchased</th>\n",
              "      <th>expected_profit</th>\n",
              "    </tr>\n",
              "  </thead>\n",
              "  <tbody>\n",
              "    <tr>\n",
              "      <th>5</th>\n",
              "      <td>2025-10-01</td>\n",
              "      <td>2025-12-01</td>\n",
              "      <td>273002</td>\n",
              "      <td>2258.773388</td>\n",
              "    </tr>\n",
              "    <tr>\n",
              "      <th>1</th>\n",
              "      <td>2025-07-01</td>\n",
              "      <td>2025-11-01</td>\n",
              "      <td>332279</td>\n",
              "      <td>43104.003990</td>\n",
              "    </tr>\n",
              "    <tr>\n",
              "      <th>4</th>\n",
              "      <td>2025-09-01</td>\n",
              "      <td>2025-12-01</td>\n",
              "      <td>294128</td>\n",
              "      <td>50401.723337</td>\n",
              "    </tr>\n",
              "    <tr>\n",
              "      <th>3</th>\n",
              "      <td>2025-08-01</td>\n",
              "      <td>2025-12-01</td>\n",
              "      <td>306442</td>\n",
              "      <td>63735.973604</td>\n",
              "    </tr>\n",
              "    <tr>\n",
              "      <th>0</th>\n",
              "      <td>2025-06-01</td>\n",
              "      <td>2025-12-01</td>\n",
              "      <td>327221</td>\n",
              "      <td>70418.974926</td>\n",
              "    </tr>\n",
              "    <tr>\n",
              "      <th>2</th>\n",
              "      <td>2025-07-01</td>\n",
              "      <td>2025-12-01</td>\n",
              "      <td>332279</td>\n",
              "      <td>120194.842830</td>\n",
              "    </tr>\n",
              "  </tbody>\n",
              "</table>\n",
              "</div>"
            ],
            "text/plain": [
              "   buy_month sell_month  pints_purchased  expected_profit\n",
              "5 2025-10-01 2025-12-01           273002      2258.773388\n",
              "1 2025-07-01 2025-11-01           332279     43104.003990\n",
              "4 2025-09-01 2025-12-01           294128     50401.723337\n",
              "3 2025-08-01 2025-12-01           306442     63735.973604\n",
              "0 2025-06-01 2025-12-01           327221     70418.974926\n",
              "2 2025-07-01 2025-12-01           332279    120194.842830"
            ]
          },
          "execution_count": 19,
          "metadata": {},
          "output_type": "execute_result"
        }
      ],
      "source": [
        "# YOUR CHANGES HERE\n",
        "\n",
        "pairs_df.sort_values(by=['expected_profit'])"
      ]
    },
    {
      "cell_type": "code",
      "execution_count": 20,
      "metadata": {},
      "outputs": [],
      "source": [
        "best_profit = pairs_df['expected_profit'][2]\n",
        "one_std_profit = best_profit - std\n",
        "\n",
        "check = pd.DataFrame([[best_profit, one_std_profit]], columns = ['best_profit', 'one_std_profit'])\n",
        "check.to_csv('check.tsv', sep='\\t')"
      ]
    },
    {
      "cell_type": "markdown",
      "metadata": {
        "id": "M--8x-ZMEKAi"
      },
      "source": [
        "Submit \"check.tsv\" in Gradescope."
      ]
    },
    {
      "cell_type": "markdown",
      "metadata": {
        "id": "usYg0VtaqrGN"
      },
      "source": [
        "## Part 6: Acknowledgments\n",
        "\n",
        "Make a file \"acknowledgments.txt\" documenting any outside sources or help on this project.\n",
        "If you discussed this assignment with anyone, please acknowledge them here.\n",
        "If you used any libraries not mentioned in this module's content, please list them with a brief explanation what you used them for.\n",
        "If you used any generative AI tools, please add links to your transcripts below, and any other information that you feel is necessary to comply with the generative AI policy.\n",
        "If no acknowledgments are appropriate, just write none in the file.\n"
      ]
    },
    {
      "cell_type": "markdown",
      "metadata": {
        "id": "dZdLWQD8qvVV"
      },
      "source": [
        "Submit \"acknowledgments.txt\" in Gradescope."
      ]
    },
    {
      "cell_type": "markdown",
      "metadata": {
        "id": "n7ls909LqzkL"
      },
      "source": [
        "## Part 7: Code\n",
        "\n",
        "Please submit a Jupyter notebook that can reproduce all your calculations and recreate the previously submitted files.\n",
        "You do not need to provide code for data collection if you did that by manually."
      ]
    },
    {
      "cell_type": "markdown",
      "metadata": {
        "id": "mtgsTYQIq2pB"
      },
      "source": [
        "Submit \"project.ipynb\" in Gradescope."
      ]
    }
  ],
  "metadata": {
    "colab": {
      "toc_visible": false
    },
    "kernelspec": {
      "display_name": "Python 3",
      "name": "python3"
    },
    "language_info": {
      "codemirror_mode": {
        "name": "ipython",
        "version": 3
      },
      "file_extension": ".py",
      "mimetype": "text/x-python",
      "name": "python",
      "nbconvert_exporter": "python",
      "pygments_lexer": "ipython3",
      "version": "3.12.1"
    }
  },
  "nbformat": 4,
  "nbformat_minor": 0
}
